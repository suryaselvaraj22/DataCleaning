{
 "cells": [
  {
   "cell_type": "markdown",
   "metadata": {},
   "source": [
    "### Data Cleaning Practical Examples\n",
    "#### Working With Columns\n",
    "1. How to check columns\n",
    "2. How to rename columns\n",
    "3. How to put underscore in all columns\n",
    "4. How to replace a character or empty space in column names\n",
    "5. How to uppercase/lowercase columns\n",
    "6. How to select all columns except one\n",
    "7. How to select columns of a particular order or phrase(df.filter)\n",
    "8. How to select a group of column name"
   ]
  },
  {
   "cell_type": "code",
   "execution_count": 1,
   "metadata": {},
   "outputs": [],
   "source": [
    "# Import relevant packages \n",
    "import numpy as np \n",
    "import pandas as pd"
   ]
  },
  {
   "cell_type": "code",
   "execution_count": 2,
   "metadata": {},
   "outputs": [],
   "source": [
    "# Load dataset\n",
    "df = pd.read_csv(\"Datasets/raw_dataset.csv\")"
   ]
  },
  {
   "cell_type": "code",
   "execution_count": 3,
   "metadata": {},
   "outputs": [
    {
     "data": {
      "text/html": [
       "<div>\n",
       "<style scoped>\n",
       "    .dataframe tbody tr th:only-of-type {\n",
       "        vertical-align: middle;\n",
       "    }\n",
       "\n",
       "    .dataframe tbody tr th {\n",
       "        vertical-align: top;\n",
       "    }\n",
       "\n",
       "    .dataframe thead th {\n",
       "        text-align: right;\n",
       "    }\n",
       "</style>\n",
       "<table border=\"1\" class=\"dataframe\">\n",
       "  <thead>\n",
       "    <tr style=\"text-align: right;\">\n",
       "      <th></th>\n",
       "      <th>First Name</th>\n",
       "      <th>Last name</th>\n",
       "      <th>Age</th>\n",
       "      <th>SALARY</th>\n",
       "      <th>STREET Address1</th>\n",
       "      <th>STREET Address2</th>\n",
       "      <th>STREET Address3</th>\n",
       "      <th>email</th>\n",
       "    </tr>\n",
       "  </thead>\n",
       "  <tbody>\n",
       "    <tr>\n",
       "      <th>0</th>\n",
       "      <td>Joel</td>\n",
       "      <td>Padilla</td>\n",
       "      <td>10/28/2019</td>\n",
       "      <td>$92.32</td>\n",
       "      <td>431-6530 Eu, Rd.</td>\n",
       "      <td>364-2264 Augue Rd.</td>\n",
       "      <td>P.O. Box 864, 3882 Orci Street</td>\n",
       "      <td>eu@nibh.com</td>\n",
       "    </tr>\n",
       "    <tr>\n",
       "      <th>1</th>\n",
       "      <td>Fritz</td>\n",
       "      <td>Tyler</td>\n",
       "      <td>09/27/2019</td>\n",
       "      <td>$83.91</td>\n",
       "      <td>Ap #377-2267 Ac Av.</td>\n",
       "      <td>979-2228 Vel Ave</td>\n",
       "      <td>9865 Eu Av.</td>\n",
       "      <td>est.ac.mattis@malesuadafringilla.net</td>\n",
       "    </tr>\n",
       "    <tr>\n",
       "      <th>2</th>\n",
       "      <td>Wing</td>\n",
       "      <td>Phelps</td>\n",
       "      <td>02/18/2019</td>\n",
       "      <td>$17.15</td>\n",
       "      <td>Ap #545-5786 Pulvinar Ave</td>\n",
       "      <td>Ap #973-5781 Sagittis Avenue</td>\n",
       "      <td>9959 Ut St.</td>\n",
       "      <td>dolor@cubilia.net</td>\n",
       "    </tr>\n",
       "    <tr>\n",
       "      <th>3</th>\n",
       "      <td>Ryan</td>\n",
       "      <td>Ross</td>\n",
       "      <td>05/21/2019</td>\n",
       "      <td>$45.97</td>\n",
       "      <td>634-7858 Id Road</td>\n",
       "      <td>907-8824 Fringilla Ave</td>\n",
       "      <td>318-5271 In Ave</td>\n",
       "      <td>interdum.libero.dui@vitaeerat.com</td>\n",
       "    </tr>\n",
       "    <tr>\n",
       "      <th>4</th>\n",
       "      <td>Drake</td>\n",
       "      <td>Day</td>\n",
       "      <td>01/09/2020</td>\n",
       "      <td>$84.38</td>\n",
       "      <td>999-8221 Tempor, St.</td>\n",
       "      <td>297-6939 Turpis. Ave</td>\n",
       "      <td>P.O. Box 638, 6932 Laoreet Rd.</td>\n",
       "      <td>nulla.Integer.vulputate@liberoat.ca</td>\n",
       "    </tr>\n",
       "  </tbody>\n",
       "</table>\n",
       "</div>"
      ],
      "text/plain": [
       "  First Name Last name         Age  SALARY            STREET Address1  \\\n",
       "0       Joel   Padilla  10/28/2019  $92.32           431-6530 Eu, Rd.   \n",
       "1      Fritz     Tyler  09/27/2019  $83.91        Ap #377-2267 Ac Av.   \n",
       "2       Wing    Phelps  02/18/2019  $17.15  Ap #545-5786 Pulvinar Ave   \n",
       "3       Ryan      Ross  05/21/2019  $45.97           634-7858 Id Road   \n",
       "4      Drake       Day  01/09/2020  $84.38       999-8221 Tempor, St.   \n",
       "\n",
       "                STREET Address2                 STREET Address3  \\\n",
       "0            364-2264 Augue Rd.  P.O. Box 864, 3882 Orci Street   \n",
       "1              979-2228 Vel Ave                     9865 Eu Av.   \n",
       "2  Ap #973-5781 Sagittis Avenue                     9959 Ut St.   \n",
       "3        907-8824 Fringilla Ave                 318-5271 In Ave   \n",
       "4          297-6939 Turpis. Ave  P.O. Box 638, 6932 Laoreet Rd.   \n",
       "\n",
       "                                  email  \n",
       "0                           eu@nibh.com  \n",
       "1  est.ac.mattis@malesuadafringilla.net  \n",
       "2                     dolor@cubilia.net  \n",
       "3     interdum.libero.dui@vitaeerat.com  \n",
       "4   nulla.Integer.vulputate@liberoat.ca  "
      ]
     },
     "execution_count": 3,
     "metadata": {},
     "output_type": "execute_result"
    }
   ],
   "source": [
    "# Check the first few rows\n",
    "df.head()"
   ]
  },
  {
   "cell_type": "code",
   "execution_count": 4,
   "metadata": {},
   "outputs": [
    {
     "data": {
      "text/plain": [
       "Index(['First Name', 'Last name', 'Age', 'SALARY', 'STREET Address1',\n",
       "       'STREET Address2', 'STREET Address3', 'email'],\n",
       "      dtype='object')"
      ]
     },
     "execution_count": 4,
     "metadata": {},
     "output_type": "execute_result"
    }
   ],
   "source": [
    "# Check the columns\n",
    "df.columns"
   ]
  },
  {
   "cell_type": "code",
   "execution_count": 5,
   "metadata": {},
   "outputs": [
    {
     "data": {
      "text/plain": [
       "['T',\n",
       " '__abs__',\n",
       " '__add__',\n",
       " '__and__',\n",
       " '__annotations__',\n",
       " '__array__',\n",
       " '__array_priority__',\n",
       " '__array_wrap__',\n",
       " '__bool__',\n",
       " '__class__',\n",
       " '__contains__',\n",
       " '__copy__',\n",
       " '__deepcopy__',\n",
       " '__delattr__',\n",
       " '__dict__',\n",
       " '__dir__',\n",
       " '__divmod__',\n",
       " '__doc__',\n",
       " '__eq__',\n",
       " '__floordiv__',\n",
       " '__format__',\n",
       " '__ge__',\n",
       " '__getattribute__',\n",
       " '__getitem__',\n",
       " '__gt__',\n",
       " '__hash__',\n",
       " '__iadd__',\n",
       " '__init__',\n",
       " '__init_subclass__',\n",
       " '__inv__',\n",
       " '__iter__',\n",
       " '__le__',\n",
       " '__len__',\n",
       " '__lt__',\n",
       " '__mod__',\n",
       " '__module__',\n",
       " '__mul__',\n",
       " '__ne__',\n",
       " '__neg__',\n",
       " '__new__',\n",
       " '__nonzero__',\n",
       " '__or__',\n",
       " '__pos__',\n",
       " '__pow__',\n",
       " '__radd__',\n",
       " '__reduce__',\n",
       " '__reduce_ex__',\n",
       " '__repr__',\n",
       " '__rfloordiv__',\n",
       " '__rmul__',\n",
       " '__rpow__',\n",
       " '__rsub__',\n",
       " '__rtruediv__',\n",
       " '__setattr__',\n",
       " '__setitem__',\n",
       " '__sizeof__',\n",
       " '__str__',\n",
       " '__sub__',\n",
       " '__subclasshook__',\n",
       " '__truediv__',\n",
       " '__weakref__',\n",
       " '__xor__',\n",
       " '_accessors',\n",
       " '_add_comparison_methods',\n",
       " '_add_logical_methods',\n",
       " '_add_logical_methods_disabled',\n",
       " '_add_numeric_methods',\n",
       " '_add_numeric_methods_add_sub_disabled',\n",
       " '_add_numeric_methods_binary',\n",
       " '_add_numeric_methods_disabled',\n",
       " '_add_numeric_methods_unary',\n",
       " '_assert_can_do_op',\n",
       " '_assert_can_do_setop',\n",
       " '_assert_take_fillable',\n",
       " '_attributes',\n",
       " '_can_hold_identifiers_and_holds_name',\n",
       " '_can_hold_na',\n",
       " '_can_reindex',\n",
       " '_check_indexing_error',\n",
       " '_cleanup',\n",
       " '_coerce_scalar_to_index',\n",
       " '_comparables',\n",
       " '_concat',\n",
       " '_constructor',\n",
       " '_convert_arr_indexer',\n",
       " '_convert_can_do_setop',\n",
       " '_convert_for_op',\n",
       " '_convert_index_indexer',\n",
       " '_convert_list_indexer',\n",
       " '_convert_listlike_indexer',\n",
       " '_convert_slice_indexer',\n",
       " '_convert_tolerance',\n",
       " '_defer_to_indexing',\n",
       " '_deprecations',\n",
       " '_dir_additions',\n",
       " '_dir_deletions',\n",
       " '_engine',\n",
       " '_engine_type',\n",
       " '_filter_indexer_tolerance',\n",
       " '_format_attrs',\n",
       " '_format_data',\n",
       " '_format_native_types',\n",
       " '_format_space',\n",
       " '_format_with_header',\n",
       " '_formatter_func',\n",
       " '_get_attributes_dict',\n",
       " '_get_engine_target',\n",
       " '_get_fill_indexer',\n",
       " '_get_fill_indexer_searchsorted',\n",
       " '_get_grouper_for_level',\n",
       " '_get_level_number',\n",
       " '_get_level_values',\n",
       " '_get_names',\n",
       " '_get_nearest_indexer',\n",
       " '_get_partial_string_timestamp_match_key',\n",
       " '_get_reconciled_name_object',\n",
       " '_get_string_slice',\n",
       " '_get_unique_index',\n",
       " '_get_values_for_loc',\n",
       " '_has_complex_internals',\n",
       " '_id',\n",
       " '_inner_indexer',\n",
       " '_invalid_indexer',\n",
       " '_is_comparable_dtype',\n",
       " '_is_compatible_with_other',\n",
       " '_is_memory_usage_qualified',\n",
       " '_is_numeric_dtype',\n",
       " '_is_strictly_monotonic_decreasing',\n",
       " '_is_strictly_monotonic_increasing',\n",
       " '_isnan',\n",
       " '_join_level',\n",
       " '_join_monotonic',\n",
       " '_join_multi',\n",
       " '_join_non_unique',\n",
       " '_join_precedence',\n",
       " '_left_indexer',\n",
       " '_left_indexer_unique',\n",
       " '_map_values',\n",
       " '_maybe_cast_indexer',\n",
       " '_maybe_cast_slice_bound',\n",
       " '_maybe_promote',\n",
       " '_mpl_repr',\n",
       " '_na_value',\n",
       " '_name',\n",
       " '_nan_idxs',\n",
       " '_no_setting_name',\n",
       " '_outer_indexer',\n",
       " '_reduce',\n",
       " '_reindex_non_unique',\n",
       " '_reset_cache',\n",
       " '_reset_identity',\n",
       " '_scalar_data_error',\n",
       " '_searchsorted_monotonic',\n",
       " '_set_names',\n",
       " '_shallow_copy',\n",
       " '_should_fallback_to_positional',\n",
       " '_simple_new',\n",
       " '_sort_levels_monotonic',\n",
       " '_string_data_error',\n",
       " '_summary',\n",
       " '_supports_partial_string_indexing',\n",
       " '_to_safe_for_reshape',\n",
       " '_transform_index',\n",
       " '_typ',\n",
       " '_union',\n",
       " '_union_incompatible_dtypes',\n",
       " '_validate_index_level',\n",
       " '_validate_indexer',\n",
       " '_validate_names',\n",
       " '_validate_positional_slice',\n",
       " '_validate_sort_keyword',\n",
       " '_values',\n",
       " '_wrap_joined_index',\n",
       " '_wrap_setop_result',\n",
       " 'all',\n",
       " 'any',\n",
       " 'append',\n",
       " 'argmax',\n",
       " 'argmin',\n",
       " 'argsort',\n",
       " 'array',\n",
       " 'asi8',\n",
       " 'asof',\n",
       " 'asof_locs',\n",
       " 'astype',\n",
       " 'copy',\n",
       " 'delete',\n",
       " 'difference',\n",
       " 'drop',\n",
       " 'drop_duplicates',\n",
       " 'droplevel',\n",
       " 'dropna',\n",
       " 'dtype',\n",
       " 'duplicated',\n",
       " 'empty',\n",
       " 'equals',\n",
       " 'factorize',\n",
       " 'fillna',\n",
       " 'format',\n",
       " 'get_indexer',\n",
       " 'get_indexer_for',\n",
       " 'get_indexer_non_unique',\n",
       " 'get_level_values',\n",
       " 'get_loc',\n",
       " 'get_slice_bound',\n",
       " 'get_value',\n",
       " 'groupby',\n",
       " 'has_duplicates',\n",
       " 'hasnans',\n",
       " 'holds_integer',\n",
       " 'identical',\n",
       " 'inferred_type',\n",
       " 'insert',\n",
       " 'intersection',\n",
       " 'is_',\n",
       " 'is_all_dates',\n",
       " 'is_boolean',\n",
       " 'is_categorical',\n",
       " 'is_floating',\n",
       " 'is_integer',\n",
       " 'is_interval',\n",
       " 'is_mixed',\n",
       " 'is_monotonic',\n",
       " 'is_monotonic_decreasing',\n",
       " 'is_monotonic_increasing',\n",
       " 'is_numeric',\n",
       " 'is_object',\n",
       " 'is_type_compatible',\n",
       " 'is_unique',\n",
       " 'isin',\n",
       " 'isna',\n",
       " 'isnull',\n",
       " 'item',\n",
       " 'join',\n",
       " 'map',\n",
       " 'max',\n",
       " 'memory_usage',\n",
       " 'min',\n",
       " 'name',\n",
       " 'names',\n",
       " 'nbytes',\n",
       " 'ndim',\n",
       " 'nlevels',\n",
       " 'notna',\n",
       " 'notnull',\n",
       " 'nunique',\n",
       " 'putmask',\n",
       " 'ravel',\n",
       " 'reindex',\n",
       " 'rename',\n",
       " 'repeat',\n",
       " 'searchsorted',\n",
       " 'set_names',\n",
       " 'shape',\n",
       " 'shift',\n",
       " 'size',\n",
       " 'slice_indexer',\n",
       " 'slice_locs',\n",
       " 'sort',\n",
       " 'sort_values',\n",
       " 'sortlevel',\n",
       " 'str',\n",
       " 'symmetric_difference',\n",
       " 'take',\n",
       " 'to_flat_index',\n",
       " 'to_frame',\n",
       " 'to_list',\n",
       " 'to_native_types',\n",
       " 'to_numpy',\n",
       " 'to_series',\n",
       " 'transpose',\n",
       " 'union',\n",
       " 'unique',\n",
       " 'value_counts',\n",
       " 'values',\n",
       " 'view',\n",
       " 'where']"
      ]
     },
     "execution_count": 5,
     "metadata": {},
     "output_type": "execute_result"
    }
   ],
   "source": [
    "# Features of Columns\n",
    "dir(df.columns)"
   ]
  },
  {
   "cell_type": "code",
   "execution_count": 6,
   "metadata": {},
   "outputs": [
    {
     "data": {
      "text/plain": [
       "array(['First Name', 'Last name', 'Age', 'SALARY', 'STREET Address1',\n",
       "       'STREET Address2', 'STREET Address3', 'email'], dtype=object)"
      ]
     },
     "execution_count": 6,
     "metadata": {},
     "output_type": "execute_result"
    }
   ],
   "source": [
    "# Get The Columns As an Array\n",
    "df.columns.values"
   ]
  },
  {
   "cell_type": "code",
   "execution_count": 7,
   "metadata": {},
   "outputs": [
    {
     "data": {
      "text/plain": [
       "['First Name',\n",
       " 'Last name',\n",
       " 'Age',\n",
       " 'SALARY',\n",
       " 'STREET Address1',\n",
       " 'STREET Address2',\n",
       " 'STREET Address3',\n",
       " 'email']"
      ]
     },
     "execution_count": 7,
     "metadata": {},
     "output_type": "execute_result"
    }
   ],
   "source": [
    "# Get The Columns As  List\n",
    "df.columns.tolist()"
   ]
  },
  {
   "cell_type": "code",
   "execution_count": 8,
   "metadata": {},
   "outputs": [
    {
     "data": {
      "text/plain": [
       "Index(['First Name', 'Last name', 'Age', 'SALARY', 'STREET Address1',\n",
       "       'STREET Address2', 'STREET Address3', 'email'],\n",
       "      dtype='object')"
      ]
     },
     "execution_count": 8,
     "metadata": {},
     "output_type": "execute_result"
    }
   ],
   "source": [
    "# To View Columns Names\n",
    "df.columns.view()"
   ]
  },
  {
   "cell_type": "code",
   "execution_count": 10,
   "metadata": {},
   "outputs": [
    {
     "data": {
      "text/plain": [
       "First Name              First Name\n",
       "Last name                Last name\n",
       "Age                            Age\n",
       "SALARY                      SALARY\n",
       "STREET Address1    STREET Address1\n",
       "STREET Address2    STREET Address2\n",
       "STREET Address3    STREET Address3\n",
       "email                        email\n",
       "dtype: object"
      ]
     },
     "execution_count": 10,
     "metadata": {},
     "output_type": "execute_result"
    }
   ],
   "source": [
    "# Convert the Column Names To Series/ DataFrame\n",
    "df.columns.to_series()"
   ]
  },
  {
   "cell_type": "code",
   "execution_count": 11,
   "metadata": {},
   "outputs": [
    {
     "data": {
      "text/html": [
       "<div>\n",
       "<style scoped>\n",
       "    .dataframe tbody tr th:only-of-type {\n",
       "        vertical-align: middle;\n",
       "    }\n",
       "\n",
       "    .dataframe tbody tr th {\n",
       "        vertical-align: top;\n",
       "    }\n",
       "\n",
       "    .dataframe thead th {\n",
       "        text-align: right;\n",
       "    }\n",
       "</style>\n",
       "<table border=\"1\" class=\"dataframe\">\n",
       "  <thead>\n",
       "    <tr style=\"text-align: right;\">\n",
       "      <th></th>\n",
       "      <th>0</th>\n",
       "    </tr>\n",
       "  </thead>\n",
       "  <tbody>\n",
       "    <tr>\n",
       "      <th>First Name</th>\n",
       "      <td>First Name</td>\n",
       "    </tr>\n",
       "    <tr>\n",
       "      <th>Last name</th>\n",
       "      <td>Last name</td>\n",
       "    </tr>\n",
       "    <tr>\n",
       "      <th>Age</th>\n",
       "      <td>Age</td>\n",
       "    </tr>\n",
       "    <tr>\n",
       "      <th>SALARY</th>\n",
       "      <td>SALARY</td>\n",
       "    </tr>\n",
       "    <tr>\n",
       "      <th>STREET Address1</th>\n",
       "      <td>STREET Address1</td>\n",
       "    </tr>\n",
       "    <tr>\n",
       "      <th>STREET Address2</th>\n",
       "      <td>STREET Address2</td>\n",
       "    </tr>\n",
       "    <tr>\n",
       "      <th>STREET Address3</th>\n",
       "      <td>STREET Address3</td>\n",
       "    </tr>\n",
       "    <tr>\n",
       "      <th>email</th>\n",
       "      <td>email</td>\n",
       "    </tr>\n",
       "  </tbody>\n",
       "</table>\n",
       "</div>"
      ],
      "text/plain": [
       "                               0\n",
       "First Name            First Name\n",
       "Last name              Last name\n",
       "Age                          Age\n",
       "SALARY                    SALARY\n",
       "STREET Address1  STREET Address1\n",
       "STREET Address2  STREET Address2\n",
       "STREET Address3  STREET Address3\n",
       "email                      email"
      ]
     },
     "execution_count": 11,
     "metadata": {},
     "output_type": "execute_result"
    }
   ],
   "source": [
    "# Convert the Column Names To DataFrame\n",
    "df.columns.to_frame()"
   ]
  },
  {
   "cell_type": "code",
   "execution_count": 13,
   "metadata": {},
   "outputs": [
    {
     "name": "stdout",
     "output_type": "stream",
     "text": [
      "['First Name', 'Last name', 'Age', 'SALARY', 'STREET Address1', 'STREET Address2', 'STREET Address3', 'email']\n",
      "['First Name']\n"
     ]
    }
   ],
   "source": [
    "# Check to see if column names contains a phrase\n",
    "First_cols = [col for col in df.columns if 'First' in col]\n",
    "print(list(df.columns))\n",
    "print(First_cols)"
   ]
  },
  {
   "cell_type": "code",
   "execution_count": 14,
   "metadata": {},
   "outputs": [
    {
     "data": {
      "text/plain": [
       "array([False, False, False, False, False, False, False, False])"
      ]
     },
     "execution_count": 14,
     "metadata": {},
     "output_type": "execute_result"
    }
   ],
   "source": [
    "# Check to see if column names are duplicated\n",
    "df.columns.duplicated()"
   ]
  },
  {
   "cell_type": "code",
   "execution_count": 15,
   "metadata": {},
   "outputs": [
    {
     "data": {
      "text/plain": [
       "['__annotations__',\n",
       " '__class__',\n",
       " '__delattr__',\n",
       " '__dict__',\n",
       " '__dir__',\n",
       " '__doc__',\n",
       " '__eq__',\n",
       " '__format__',\n",
       " '__frozen',\n",
       " '__ge__',\n",
       " '__getattribute__',\n",
       " '__getitem__',\n",
       " '__gt__',\n",
       " '__hash__',\n",
       " '__init__',\n",
       " '__init_subclass__',\n",
       " '__iter__',\n",
       " '__le__',\n",
       " '__lt__',\n",
       " '__module__',\n",
       " '__ne__',\n",
       " '__new__',\n",
       " '__reduce__',\n",
       " '__reduce_ex__',\n",
       " '__repr__',\n",
       " '__setattr__',\n",
       " '__sizeof__',\n",
       " '__str__',\n",
       " '__subclasshook__',\n",
       " '__weakref__',\n",
       " '_doc_args',\n",
       " '_freeze',\n",
       " '_get_series_list',\n",
       " '_inferred_dtype',\n",
       " '_is_categorical',\n",
       " '_is_string',\n",
       " '_make_accessor',\n",
       " '_orig',\n",
       " '_parent',\n",
       " '_validate',\n",
       " '_wrap_result',\n",
       " 'capitalize',\n",
       " 'casefold',\n",
       " 'cat',\n",
       " 'center',\n",
       " 'contains',\n",
       " 'count',\n",
       " 'decode',\n",
       " 'encode',\n",
       " 'endswith',\n",
       " 'extract',\n",
       " 'extractall',\n",
       " 'find',\n",
       " 'findall',\n",
       " 'fullmatch',\n",
       " 'get',\n",
       " 'get_dummies',\n",
       " 'index',\n",
       " 'isalnum',\n",
       " 'isalpha',\n",
       " 'isdecimal',\n",
       " 'isdigit',\n",
       " 'islower',\n",
       " 'isnumeric',\n",
       " 'isspace',\n",
       " 'istitle',\n",
       " 'isupper',\n",
       " 'join',\n",
       " 'len',\n",
       " 'ljust',\n",
       " 'lower',\n",
       " 'lstrip',\n",
       " 'match',\n",
       " 'normalize',\n",
       " 'pad',\n",
       " 'partition',\n",
       " 'repeat',\n",
       " 'replace',\n",
       " 'rfind',\n",
       " 'rindex',\n",
       " 'rjust',\n",
       " 'rpartition',\n",
       " 'rsplit',\n",
       " 'rstrip',\n",
       " 'slice',\n",
       " 'slice_replace',\n",
       " 'split',\n",
       " 'startswith',\n",
       " 'strip',\n",
       " 'swapcase',\n",
       " 'title',\n",
       " 'translate',\n",
       " 'upper',\n",
       " 'wrap',\n",
       " 'zfill']"
      ]
     },
     "execution_count": 15,
     "metadata": {},
     "output_type": "execute_result"
    }
   ],
   "source": [
    "# Attributes and Methods of Str\n",
    "dir(df.columns.str)"
   ]
  },
  {
   "cell_type": "code",
   "execution_count": 16,
   "metadata": {},
   "outputs": [
    {
     "data": {
      "text/plain": [
       "Index(['first name', 'last name', 'age', 'salary', 'street address1',\n",
       "       'street address2', 'street address3', 'email'],\n",
       "      dtype='object')"
      ]
     },
     "execution_count": 16,
     "metadata": {},
     "output_type": "execute_result"
    }
   ],
   "source": [
    "# Making Column Name Lower Case\n",
    "df.columns.str.lower()"
   ]
  },
  {
   "cell_type": "code",
   "execution_count": 17,
   "metadata": {},
   "outputs": [
    {
     "data": {
      "text/plain": [
       "Index(['FIRST NAME', 'LAST NAME', 'AGE', 'SALARY', 'STREET ADDRESS1',\n",
       "       'STREET ADDRESS2', 'STREET ADDRESS3', 'EMAIL'],\n",
       "      dtype='object')"
      ]
     },
     "execution_count": 17,
     "metadata": {},
     "output_type": "execute_result"
    }
   ],
   "source": [
    "# Making Column Name Upper Case\n",
    "df.columns.str.upper()"
   ]
  },
  {
   "cell_type": "code",
   "execution_count": 18,
   "metadata": {},
   "outputs": [
    {
     "data": {
      "text/plain": [
       "Index(['First Name', 'Last Name', 'Age', 'Salary', 'Street Address1',\n",
       "       'Street Address2', 'Street Address3', 'Email'],\n",
       "      dtype='object')"
      ]
     },
     "execution_count": 18,
     "metadata": {},
     "output_type": "execute_result"
    }
   ],
   "source": [
    "# Making Column Name Title Case\n",
    "df.columns.str.title()"
   ]
  },
  {
   "cell_type": "code",
   "execution_count": 19,
   "metadata": {},
   "outputs": [
    {
     "data": {
      "text/plain": [
       "Index(['First_Name', 'Last_name', 'Age', 'SALARY', 'STREET_Address1',\n",
       "       'STREET_Address2', 'STREET_Address3', 'email'],\n",
       "      dtype='object')"
      ]
     },
     "execution_count": 19,
     "metadata": {},
     "output_type": "execute_result"
    }
   ],
   "source": [
    "# Replacing Empty spaces with underscore\n",
    "df.columns.str.replace(' ','_')"
   ]
  },
  {
   "cell_type": "code",
   "execution_count": 20,
   "metadata": {},
   "outputs": [
    {
     "data": {
      "text/html": [
       "<div>\n",
       "<style scoped>\n",
       "    .dataframe tbody tr th:only-of-type {\n",
       "        vertical-align: middle;\n",
       "    }\n",
       "\n",
       "    .dataframe tbody tr th {\n",
       "        vertical-align: top;\n",
       "    }\n",
       "\n",
       "    .dataframe thead th {\n",
       "        text-align: right;\n",
       "    }\n",
       "</style>\n",
       "<table border=\"1\" class=\"dataframe\">\n",
       "  <thead>\n",
       "    <tr style=\"text-align: right;\">\n",
       "      <th></th>\n",
       "      <th>First Name</th>\n",
       "      <th>Last name</th>\n",
       "      <th>Date of Birth</th>\n",
       "      <th>SALARY</th>\n",
       "      <th>STREET Address1</th>\n",
       "      <th>STREET Address2</th>\n",
       "      <th>STREET Address3</th>\n",
       "      <th>email</th>\n",
       "    </tr>\n",
       "  </thead>\n",
       "  <tbody>\n",
       "    <tr>\n",
       "      <th>0</th>\n",
       "      <td>Joel</td>\n",
       "      <td>Padilla</td>\n",
       "      <td>10/28/2019</td>\n",
       "      <td>$92.32</td>\n",
       "      <td>431-6530 Eu, Rd.</td>\n",
       "      <td>364-2264 Augue Rd.</td>\n",
       "      <td>P.O. Box 864, 3882 Orci Street</td>\n",
       "      <td>eu@nibh.com</td>\n",
       "    </tr>\n",
       "    <tr>\n",
       "      <th>1</th>\n",
       "      <td>Fritz</td>\n",
       "      <td>Tyler</td>\n",
       "      <td>09/27/2019</td>\n",
       "      <td>$83.91</td>\n",
       "      <td>Ap #377-2267 Ac Av.</td>\n",
       "      <td>979-2228 Vel Ave</td>\n",
       "      <td>9865 Eu Av.</td>\n",
       "      <td>est.ac.mattis@malesuadafringilla.net</td>\n",
       "    </tr>\n",
       "    <tr>\n",
       "      <th>2</th>\n",
       "      <td>Wing</td>\n",
       "      <td>Phelps</td>\n",
       "      <td>02/18/2019</td>\n",
       "      <td>$17.15</td>\n",
       "      <td>Ap #545-5786 Pulvinar Ave</td>\n",
       "      <td>Ap #973-5781 Sagittis Avenue</td>\n",
       "      <td>9959 Ut St.</td>\n",
       "      <td>dolor@cubilia.net</td>\n",
       "    </tr>\n",
       "    <tr>\n",
       "      <th>3</th>\n",
       "      <td>Ryan</td>\n",
       "      <td>Ross</td>\n",
       "      <td>05/21/2019</td>\n",
       "      <td>$45.97</td>\n",
       "      <td>634-7858 Id Road</td>\n",
       "      <td>907-8824 Fringilla Ave</td>\n",
       "      <td>318-5271 In Ave</td>\n",
       "      <td>interdum.libero.dui@vitaeerat.com</td>\n",
       "    </tr>\n",
       "    <tr>\n",
       "      <th>4</th>\n",
       "      <td>Drake</td>\n",
       "      <td>Day</td>\n",
       "      <td>01/09/2020</td>\n",
       "      <td>$84.38</td>\n",
       "      <td>999-8221 Tempor, St.</td>\n",
       "      <td>297-6939 Turpis. Ave</td>\n",
       "      <td>P.O. Box 638, 6932 Laoreet Rd.</td>\n",
       "      <td>nulla.Integer.vulputate@liberoat.ca</td>\n",
       "    </tr>\n",
       "    <tr>\n",
       "      <th>...</th>\n",
       "      <td>...</td>\n",
       "      <td>...</td>\n",
       "      <td>...</td>\n",
       "      <td>...</td>\n",
       "      <td>...</td>\n",
       "      <td>...</td>\n",
       "      <td>...</td>\n",
       "      <td>...</td>\n",
       "    </tr>\n",
       "    <tr>\n",
       "      <th>95</th>\n",
       "      <td>Victor</td>\n",
       "      <td>Hobbs</td>\n",
       "      <td>05/24/2019</td>\n",
       "      <td>$54.56</td>\n",
       "      <td>4034 Vitae St.</td>\n",
       "      <td>P.O. Box 930, 1683 Eu Rd.</td>\n",
       "      <td>P.O. Box 181, 3360 Mus. Rd.</td>\n",
       "      <td>ipsum@dictumaugue.com</td>\n",
       "    </tr>\n",
       "    <tr>\n",
       "      <th>96</th>\n",
       "      <td>Neil</td>\n",
       "      <td>Bradford</td>\n",
       "      <td>02/07/2020</td>\n",
       "      <td>$74.52</td>\n",
       "      <td>1434 Aliquet, Street</td>\n",
       "      <td>956-6627 Nunc Av.</td>\n",
       "      <td>Ap #727-6109 Sapien. Av.</td>\n",
       "      <td>sapien.Nunc@euodioPhasellus.net</td>\n",
       "    </tr>\n",
       "    <tr>\n",
       "      <th>97</th>\n",
       "      <td>Noble</td>\n",
       "      <td>Conrad</td>\n",
       "      <td>10/29/2019</td>\n",
       "      <td>$43.99</td>\n",
       "      <td>Ap #173-7049 Eget, St.</td>\n",
       "      <td>Ap #620-2512 Ut Street</td>\n",
       "      <td>8768 Aenean St.</td>\n",
       "      <td>tellus.Nunc.lectus@ornare.org</td>\n",
       "    </tr>\n",
       "    <tr>\n",
       "      <th>98</th>\n",
       "      <td>Brody</td>\n",
       "      <td>Whitaker</td>\n",
       "      <td>08/09/2018</td>\n",
       "      <td>$96.24</td>\n",
       "      <td>Ap #371-9803 Aliquam Rd.</td>\n",
       "      <td>8892 Euismod Street</td>\n",
       "      <td>Ap #201-659 Libero. Street</td>\n",
       "      <td>non.dapibus.rutrum@eumetus.co.uk</td>\n",
       "    </tr>\n",
       "    <tr>\n",
       "      <th>99</th>\n",
       "      <td>Alden</td>\n",
       "      <td>Mccormick</td>\n",
       "      <td>07/27/2019</td>\n",
       "      <td>$2.66</td>\n",
       "      <td>Ap #375-1139 Risus. Road</td>\n",
       "      <td>7259 Duis Avenue</td>\n",
       "      <td>955-4058 Maecenas St.</td>\n",
       "      <td>ut.erat@aceleifend.com</td>\n",
       "    </tr>\n",
       "  </tbody>\n",
       "</table>\n",
       "<p>100 rows × 8 columns</p>\n",
       "</div>"
      ],
      "text/plain": [
       "   First Name  Last name Date of Birth  SALARY            STREET Address1  \\\n",
       "0        Joel    Padilla    10/28/2019  $92.32           431-6530 Eu, Rd.   \n",
       "1       Fritz      Tyler    09/27/2019  $83.91        Ap #377-2267 Ac Av.   \n",
       "2        Wing     Phelps    02/18/2019  $17.15  Ap #545-5786 Pulvinar Ave   \n",
       "3        Ryan       Ross    05/21/2019  $45.97           634-7858 Id Road   \n",
       "4       Drake        Day    01/09/2020  $84.38       999-8221 Tempor, St.   \n",
       "..        ...        ...           ...     ...                        ...   \n",
       "95     Victor      Hobbs    05/24/2019  $54.56             4034 Vitae St.   \n",
       "96       Neil   Bradford    02/07/2020  $74.52       1434 Aliquet, Street   \n",
       "97      Noble     Conrad    10/29/2019  $43.99     Ap #173-7049 Eget, St.   \n",
       "98      Brody   Whitaker    08/09/2018  $96.24   Ap #371-9803 Aliquam Rd.   \n",
       "99      Alden  Mccormick    07/27/2019   $2.66   Ap #375-1139 Risus. Road   \n",
       "\n",
       "                 STREET Address2                 STREET Address3  \\\n",
       "0             364-2264 Augue Rd.  P.O. Box 864, 3882 Orci Street   \n",
       "1               979-2228 Vel Ave                     9865 Eu Av.   \n",
       "2   Ap #973-5781 Sagittis Avenue                     9959 Ut St.   \n",
       "3         907-8824 Fringilla Ave                 318-5271 In Ave   \n",
       "4           297-6939 Turpis. Ave  P.O. Box 638, 6932 Laoreet Rd.   \n",
       "..                           ...                             ...   \n",
       "95     P.O. Box 930, 1683 Eu Rd.     P.O. Box 181, 3360 Mus. Rd.   \n",
       "96             956-6627 Nunc Av.        Ap #727-6109 Sapien. Av.   \n",
       "97        Ap #620-2512 Ut Street                 8768 Aenean St.   \n",
       "98           8892 Euismod Street      Ap #201-659 Libero. Street   \n",
       "99              7259 Duis Avenue           955-4058 Maecenas St.   \n",
       "\n",
       "                                   email  \n",
       "0                            eu@nibh.com  \n",
       "1   est.ac.mattis@malesuadafringilla.net  \n",
       "2                      dolor@cubilia.net  \n",
       "3      interdum.libero.dui@vitaeerat.com  \n",
       "4    nulla.Integer.vulputate@liberoat.ca  \n",
       "..                                   ...  \n",
       "95                 ipsum@dictumaugue.com  \n",
       "96       sapien.Nunc@euodioPhasellus.net  \n",
       "97         tellus.Nunc.lectus@ornare.org  \n",
       "98      non.dapibus.rutrum@eumetus.co.uk  \n",
       "99                ut.erat@aceleifend.com  \n",
       "\n",
       "[100 rows x 8 columns]"
      ]
     },
     "execution_count": 20,
     "metadata": {},
     "output_type": "execute_result"
    }
   ],
   "source": [
    "### Renaming Column Name\n",
    "df.rename(columns={'Age':'Date of Birth'})"
   ]
  },
  {
   "cell_type": "code",
   "execution_count": 21,
   "metadata": {},
   "outputs": [],
   "source": [
    "# Renaming Column Name /Inplace\n",
    "df.rename(columns={'Age':'Date of Birth'},inplace=True)"
   ]
  },
  {
   "cell_type": "code",
   "execution_count": 22,
   "metadata": {},
   "outputs": [
    {
     "data": {
      "text/plain": [
       "Index(['First Name', 'Last name', 'Date of Birth', 'SALARY', 'STREET Address1',\n",
       "       'STREET Address2', 'STREET Address3', 'email'],\n",
       "      dtype='object')"
      ]
     },
     "execution_count": 22,
     "metadata": {},
     "output_type": "execute_result"
    }
   ],
   "source": [
    "df.columns"
   ]
  },
  {
   "cell_type": "code",
   "execution_count": 23,
   "metadata": {},
   "outputs": [
    {
     "data": {
      "text/plain": [
       "8"
      ]
     },
     "execution_count": 23,
     "metadata": {},
     "output_type": "execute_result"
    }
   ],
   "source": [
    "# Number of columns\n",
    "len(df.columns.values)"
   ]
  },
  {
   "cell_type": "code",
   "execution_count": 24,
   "metadata": {},
   "outputs": [],
   "source": [
    "# Renaming Column Names using select values\n",
    "df.columns.values[7] = 'Email Address'"
   ]
  },
  {
   "cell_type": "code",
   "execution_count": 25,
   "metadata": {},
   "outputs": [
    {
     "data": {
      "text/plain": [
       "Index(['First Name', 'Last name', 'Date of Birth', 'SALARY', 'STREET Address1',\n",
       "       'STREET Address2', 'STREET Address3', 'Email Address'],\n",
       "      dtype='object')"
      ]
     },
     "execution_count": 25,
     "metadata": {},
     "output_type": "execute_result"
    }
   ],
   "source": [
    "df.columns"
   ]
  },
  {
   "cell_type": "code",
   "execution_count": 26,
   "metadata": {},
   "outputs": [
    {
     "data": {
      "text/plain": [
       "Index(['First Name', 'Last name', 'Date of Birth', 'STREET Address1',\n",
       "       'STREET Address2', 'STREET Address3', 'Email Address'],\n",
       "      dtype='object')"
      ]
     },
     "execution_count": 26,
     "metadata": {},
     "output_type": "execute_result"
    }
   ],
   "source": [
    "# Selecting All Columns Except One\n",
    "df.columns[df.columns != 'SALARY']"
   ]
  },
  {
   "cell_type": "code",
   "execution_count": 27,
   "metadata": {},
   "outputs": [
    {
     "data": {
      "text/plain": [
       "Index(['First Name', 'Last name', 'Date of Birth', 'STREET Address1',\n",
       "       'STREET Address2', 'STREET Address3', 'Email Address'],\n",
       "      dtype='object')"
      ]
     },
     "execution_count": 27,
     "metadata": {},
     "output_type": "execute_result"
    }
   ],
   "source": [
    "# Selecting All Columns Except One\n",
    "df.loc[:, df.columns != 'SALARY'].columns"
   ]
  },
  {
   "cell_type": "code",
   "execution_count": 28,
   "metadata": {},
   "outputs": [
    {
     "data": {
      "text/plain": [
       "Index(['Date of Birth', 'Email Address', 'First Name', 'Last name',\n",
       "       'STREET Address1', 'STREET Address2', 'STREET Address3'],\n",
       "      dtype='object')"
      ]
     },
     "execution_count": 28,
     "metadata": {},
     "output_type": "execute_result"
    }
   ],
   "source": [
    "# Select Column Names Except One Using Difference\n",
    "df.columns.difference(['SALARY'])"
   ]
  },
  {
   "cell_type": "code",
   "execution_count": 29,
   "metadata": {},
   "outputs": [
    {
     "data": {
      "text/plain": [
       "Index(['First Name', 'Last name', 'Date of Birth', 'STREET Address1',\n",
       "       'STREET Address2', 'STREET Address3', 'Email Address'],\n",
       "      dtype='object')"
      ]
     },
     "execution_count": 29,
     "metadata": {},
     "output_type": "execute_result"
    }
   ],
   "source": [
    "# Select Column Names Except One Using Negation of isin\n",
    "df.loc[:,~df.columns.isin(['SALARY'])].columns"
   ]
  },
  {
   "cell_type": "code",
   "execution_count": 30,
   "metadata": {},
   "outputs": [
    {
     "data": {
      "text/plain": [
       "Index(['STREET Address1', 'STREET Address2', 'STREET Address3'], dtype='object')"
      ]
     },
     "execution_count": 30,
     "metadata": {},
     "output_type": "execute_result"
    }
   ],
   "source": [
    "# Select Column Names that Begins with a Word or Character\n",
    "df.filter(like='STREET').columns"
   ]
  },
  {
   "cell_type": "code",
   "execution_count": 31,
   "metadata": {},
   "outputs": [
    {
     "data": {
      "text/plain": [
       "Index(['STREET Address1', 'STREET Address2', 'STREET Address3'], dtype='object')"
      ]
     },
     "execution_count": 31,
     "metadata": {},
     "output_type": "execute_result"
    }
   ],
   "source": [
    "# Select Column Names that Begins with a Word or Character\n",
    "df.loc[:,df.columns.str.startswith('STREET')].columns"
   ]
  },
  {
   "cell_type": "code",
   "execution_count": 32,
   "metadata": {},
   "outputs": [
    {
     "data": {
      "text/plain": [
       "Index(['First Name', 'Last name'], dtype='object')"
      ]
     },
     "execution_count": 32,
     "metadata": {},
     "output_type": "execute_result"
    }
   ],
   "source": [
    "# Select Column Names that ENDS with a Word or Character\n",
    "df.loc[:,df.columns.str.endswith('ame')].columns"
   ]
  },
  {
   "cell_type": "code",
   "execution_count": 33,
   "metadata": {},
   "outputs": [
    {
     "data": {
      "text/plain": [
       "Index(['First Name', 'Last name'], dtype='object')"
      ]
     },
     "execution_count": 33,
     "metadata": {},
     "output_type": "execute_result"
    }
   ],
   "source": [
    "# Select Column Names that ENDS with a Word or Character Using Filter and Regex name$\n",
    "df.filter(regex='ame$',axis=1).columns"
   ]
  },
  {
   "cell_type": "code",
   "execution_count": 34,
   "metadata": {},
   "outputs": [
    {
     "data": {
      "text/plain": [
       "array(['First Name', 'Last name', 'Date of Birth', 'SALARY'], dtype=object)"
      ]
     },
     "execution_count": 34,
     "metadata": {},
     "output_type": "execute_result"
    }
   ],
   "source": [
    "# Select A Group of Column Names\n",
    "df.columns.values[0:4]"
   ]
  },
  {
   "cell_type": "code",
   "execution_count": 35,
   "metadata": {},
   "outputs": [
    {
     "data": {
      "text/plain": [
       "Index(['First Name', 'Last name', 'Date of Birth', 'SALARY'], dtype='object')"
      ]
     },
     "execution_count": 35,
     "metadata": {},
     "output_type": "execute_result"
    }
   ],
   "source": [
    "# Select A Group of Column Names\n",
    "df.columns[0:4]"
   ]
  },
  {
   "cell_type": "code",
   "execution_count": null,
   "metadata": {},
   "outputs": [],
   "source": []
  }
 ],
 "metadata": {
  "kernelspec": {
   "display_name": "Python 3",
   "language": "python",
   "name": "python3"
  },
  "language_info": {
   "codemirror_mode": {
    "name": "ipython",
    "version": 3
   },
   "file_extension": ".py",
   "mimetype": "text/x-python",
   "name": "python",
   "nbconvert_exporter": "python",
   "pygments_lexer": "ipython3",
   "version": "3.8.5"
  }
 },
 "nbformat": 4,
 "nbformat_minor": 4
}
